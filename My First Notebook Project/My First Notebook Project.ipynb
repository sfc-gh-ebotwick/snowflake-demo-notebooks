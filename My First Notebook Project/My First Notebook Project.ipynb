{
 "metadata": {
  "kernelspec": {
   "display_name": "Streamlit Notebook",
   "name": "streamlit"
  },
  "lastEditStatus": {
   "notebookId": "hskl7mcugia2kyoga2fy",
   "authorId": "5095547476787",
   "authorName": "EBOTWICK",
   "authorEmail": "elliott.botwick@snowflake.com",
   "sessionId": "b84e0eb0-abe7-46e7-ac11-9f2f3920de35",
   "lastEditTime": 1747681203205
  }
 },
 "nbformat_minor": 5,
 "nbformat": 4,
 "cells": [
  {
   "cell_type": "markdown",
   "id": "3e886713-6ff9-4064-84d3-9c2480d3d3a9",
   "metadata": {
    "collapsed": false,
    "name": "cell1"
   },
   "source": [
    "# Welcome to :snowflake: Snowflake Notebooks :notebook:\n",
    "\n",
    "Take your data analysis to the next level by working with Python and SQL seamlessly in [Snowflake Notebooks](https://docs.snowflake.com/LIMITEDACCESS/snowsight-notebooks/ui-snowsight-notebooks-about)! ⚡️\n",
    "\n",
    "Here is a quick notebook to get you started on your first project! 🚀"
   ]
  },
  {
   "cell_type": "markdown",
   "id": "b100c4f5-3947-4d38-a399-a7848a1be6bf",
   "metadata": {
    "collapsed": false,
    "name": "cell2"
   },
   "source": [
    "## Adding Python Packages 🎒\n",
    "\n",
    "Notebooks comes pre-installed with common Python libraries for data science 🧪 and machine learning 🧠, such as numpy, pandas, matplotlib, and more! \n",
    "\n",
    "If you are looking to use other packages, click on the `Packages` dropdown on the top right to add additional packages to your notebook.\n",
    "\n",
    "For the purpose of this demo, let's add the `matplotlib` and `scipy` package from the package picker."
   ]
  },
  {
   "cell_type": "code",
   "execution_count": null,
   "id": "75d25856-380e-4e01-831c-47189920d1fa",
   "metadata": {
    "codeCollapsed": false,
    "language": "python",
    "name": "cell3"
   },
   "outputs": [],
   "source": [
    "# Import Python packages used in this notebook\n",
    "import streamlit as st\n",
    "import altair as alt\n",
    "\n",
    "# Pre-installed libraries that comes with the notebook\n",
    "import pandas as pd\n",
    "import numpy as np\n",
    "\n",
    "# Package that we just added\n",
    "import matplotlib.pyplot as plt"
   ]
  },
  {
   "cell_type": "markdown",
   "id": "8ff8e747-4a94-4f91-a971-e0f86bdc073a",
   "metadata": {
    "collapsed": false,
    "name": "cell4"
   },
   "source": [
    "## SQL Querying at your fingertips 💡 \n",
    "\n",
    "We can easily switch between Python and SQL in the same worksheet. \n",
    "\n",
    "Let's write some SQL to generate sample data to play with. "
   ]
  },
  {
   "cell_type": "code",
   "execution_count": null,
   "id": "726b8b95-674b-4191-a29d-2c850f27fd68",
   "metadata": {
    "codeCollapsed": false,
    "collapsed": false,
    "language": "sql",
    "name": "cell5"
   },
   "outputs": [],
   "source": [
    "-- Generating a synthetic dataset of Snowboard products, along with their price and rating\n",
    "SELECT CONCAT('SNOW-',UNIFORM(1000,9999, RANDOM())) AS PRODUCT_ID, \n",
    "       ABS(NORMAL(5, 3, RANDOM())) AS RATING, \n",
    "       ABS(NORMAL(750, 200::FLOAT, RANDOM())) AS PRICE\n",
    "FROM TABLE(GENERATOR(ROWCOUNT => 100));"
   ]
  },
  {
   "cell_type": "markdown",
   "id": "a42cefaa-d16b-4eb7-8a7e-f297095351b1",
   "metadata": {
    "collapsed": false,
    "name": "cell6"
   },
   "source": [
    "## Back to Working in Python 🐍\n",
    "\n",
    "You can give cells a name and refer to its output in subsequent cells.\n",
    "\n",
    "We can access the SQL results directly in Python and convert the results to a pandas dataframe. 🐼\n",
    "\n",
    "```python\n",
    "# Access the SQL cell output as a Snowpark dataframe\n",
    "my_snowpark_df = cell5.to_df()\n",
    "``` \n",
    "\n",
    "```python\n",
    "# Convert a SQL cell output into a pandas dataframe\n",
    "my_df = cell5.to_pandas()\n",
    "``` "
   ]
  },
  {
   "cell_type": "code",
   "execution_count": null,
   "id": "f2338253-c62a-4da1-b52b-569f23282689",
   "metadata": {
    "codeCollapsed": false,
    "collapsed": false,
    "language": "python",
    "name": "cell7"
   },
   "outputs": [],
   "source": [
    "df = cell5.to_pandas()\n",
    "df"
   ]
  },
  {
   "cell_type": "markdown",
   "id": "4319acb1-dc60-4087-94dd-6f661e8d532c",
   "metadata": {
    "collapsed": false,
    "name": "cell8"
   },
   "source": [
    "## 📊 Visualize your data\n",
    "\n",
    "We can use [Altair](https://altair-viz.github.io/) to easily visualize our data distribution as a histogram."
   ]
  },
  {
   "cell_type": "code",
   "execution_count": null,
   "id": "79fb2295-2bc6-41ce-b801-ed2dcc1162a0",
   "metadata": {
    "codeCollapsed": false,
    "collapsed": false,
    "language": "python",
    "name": "cell9"
   },
   "outputs": [],
   "source": [
    "# Let's plot the results with Altair\n",
    "chart = alt.Chart(df,title=\"Rating Distribution\").mark_bar().encode(\n",
    "    alt.X(\"RATING\", bin=alt.Bin(step=2)),\n",
    "    y='count()',\n",
    ")\n",
    "\n",
    "st.altair_chart(chart)"
   ]
  },
  {
   "cell_type": "markdown",
   "id": "17a6cbb1-5488-445b-a81f-5caec127b519",
   "metadata": {
    "collapsed": false,
    "name": "cell10"
   },
   "source": [
    "Let's say that you want to customize your chart and plot the kernel density estimate (KDE) and median. We can use matplotlib to plot the price distribution. Note that the `.plot` command uses `scipy` under the hood to compute the KDE profile, which we added as a package earlier in this tutorial."
   ]
  },
  {
   "cell_type": "code",
   "execution_count": null,
   "id": "e0b78b8f-3de6-4863-9eec-d07c0e848d67",
   "metadata": {
    "codeCollapsed": false,
    "collapsed": false,
    "language": "python",
    "name": "cell11"
   },
   "outputs": [],
   "source": [
    "fig, ax = plt.subplots(figsize = (6,3))\n",
    "plt.tick_params(left = False, right = False , labelleft = False) \n",
    "\n",
    "price = df[\"PRICE\"]\n",
    "price.plot(kind = \"hist\", density = True, bins = 15)\n",
    "price.plot(kind=\"kde\", color='#c44e52')\n",
    "\n",
    "\n",
    "# Calculate percentiles\n",
    "median = price.median()\n",
    "ax.axvline(median,0, color='#dd8452', ls='--')\n",
    "ax.text(median,0.8, f'Median: {median:.2f}  ',\n",
    "        ha='right', va='center', color='#dd8452', transform=ax.get_xaxis_transform())\n",
    "\n",
    "# Make our chart pretty\n",
    "plt.style.use(\"bmh\")\n",
    "plt.title(\"Price Distribution\")\n",
    "plt.xlabel(\"PRICE (binned)\")\n",
    "left, right = plt.xlim()   \n",
    "plt.xlim((0, right))  \n",
    "# Remove ticks and spines\n",
    "ax.tick_params(left = False, bottom = False)\n",
    "for ax, spine in ax.spines.items():\n",
    "    spine.set_visible(False)\n",
    "\n",
    "plt.show()"
   ]
  },
  {
   "cell_type": "markdown",
   "id": "794ab8c4-7725-44b0-bec8-72dc48bb7b89",
   "metadata": {
    "collapsed": false,
    "name": "cell12"
   },
   "source": "## Working with data using Snowpark 🛠️\n\nIn addition to using your favorite Python data science libraries, you can also use the [Snowpark API](https://docs.snowflake.com/en/developer-guide/snowpark/index) to query and process your data at scale within the Notebook. \n\nFirst, you can get your session variable directly through the active notebook session. The session variable is the entrypoint that gives you access to using Snowflake's Python API."
  },
  {
   "cell_type": "code",
   "execution_count": null,
   "id": "3775908f-ca36-4846-8f38-5adca39217f2",
   "metadata": {
    "codeCollapsed": false,
    "language": "python",
    "name": "cell13"
   },
   "outputs": [],
   "source": [
    "from snowflake.snowpark.context import get_active_session\n",
    "session = get_active_session()"
   ]
  },
  {
   "cell_type": "code",
   "id": "d719077c-7439-4750-91e6-df9c79162d09",
   "metadata": {
    "language": "python",
    "name": "cell36"
   },
   "outputs": [],
   "source": "session",
   "execution_count": null
  },
  {
   "cell_type": "code",
   "id": "b39d3ff2-bf18-420d-9564-a8223dfccfaa",
   "metadata": {
    "language": "python",
    "name": "cell33"
   },
   "outputs": [],
   "source": "session.sql(\"SHOW TABLES in DATABASE SANDBOX limit 5\")",
   "execution_count": null
  },
  {
   "cell_type": "code",
   "id": "e0fe2324-69cd-4059-811c-a6ba799c8f4f",
   "metadata": {
    "language": "sql",
    "name": "cell41"
   },
   "outputs": [],
   "source": "SHOW TABLES in DATABASE SANDBOX limit 5",
   "execution_count": null
  },
  {
   "cell_type": "code",
   "id": "766b4957-22f4-4178-85f8-2a89d7233ad9",
   "metadata": {
    "language": "python",
    "name": "cell37"
   },
   "outputs": [],
   "source": "# session.use_schema(\"NOTEBOOK_DEMOS\")\nsession.use_schema(\"PUBLIC\")\nsession",
   "execution_count": null
  },
  {
   "cell_type": "markdown",
   "id": "0573e8eb-70fd-4a3a-b96e-07dc53a0c21b",
   "metadata": {
    "collapsed": false,
    "name": "cell14"
   },
   "source": [
    "For example, we can use Snowpark to save our pandas dataframe back to a table in Snowflake. 💾"
   ]
  },
  {
   "cell_type": "code",
   "execution_count": null,
   "id": "7acbc323-c2ec-44c9-a846-3f47c218af1e",
   "metadata": {
    "codeCollapsed": false,
    "collapsed": false,
    "language": "python",
    "name": "cell15"
   },
   "outputs": [],
   "source": [
    "session.write_pandas(df,\"SNOW_CATALOG\",auto_create_table=True, table_type=\"temp\")"
   ]
  },
  {
   "cell_type": "markdown",
   "id": "471a58ea-eddd-456e-b94d-8d09ce330738",
   "metadata": {
    "collapsed": false,
    "name": "cell16"
   },
   "source": "Now that the `SNOW_CATALOG` table has been created, we can load the table using the following syntax: \n\n```python\ndf = session.table(\"<DATABASE_NAME>.<SCHEMA_NAME>.<TABLE_NAME>\")\n```\n\nIf your session is already set to the database and schema for the table you want to access, then you can reference the table name directly."
  },
  {
   "cell_type": "code",
   "execution_count": null,
   "id": "c695373e-ac74-4b62-a1f1-08206cbd5c81",
   "metadata": {
    "codeCollapsed": false,
    "collapsed": false,
    "language": "python",
    "name": "cell17"
   },
   "outputs": [],
   "source": "df = session.table(\"SNOW_CATALOG\")"
  },
  {
   "cell_type": "markdown",
   "id": "6af5c4af-7432-400c-abc3-53d0ca098362",
   "metadata": {
    "name": "cell18"
   },
   "source": "Once we have loaded the table, we can call Snowpark's [`describe`](https://docs.snowflake.com/en/developer-guide/snowpark/reference/python/latest/snowpark/api/snowflake.snowpark.DataFrame.describe) to compute basic descriptive statistics. "
  },
  {
   "cell_type": "code",
   "id": "d636ed2e-5030-4661-99c8-96b086d25530",
   "metadata": {
    "language": "python",
    "name": "cell19",
    "codeCollapsed": false
   },
   "outputs": [],
   "source": "df.describe()",
   "execution_count": null
  },
  {
   "cell_type": "code",
   "id": "a1b9ec9f-638f-418e-8fad-74eecde8128b",
   "metadata": {
    "language": "python",
    "name": "cell35"
   },
   "outputs": [],
   "source": "from snowflake.snowpark.functions import col\ndf.group_by(\"PRODUCT_ID\").mean(\"RATING\").rename(\"AVG(RATING)\",\"AVG_RATING\").filter(col(\"AVG_RATING\")>10).explain()",
   "execution_count": null
  },
  {
   "cell_type": "markdown",
   "id": "6d4ccea6-a7f6-4c3b-8dcc-920701efb2e7",
   "metadata": {
    "collapsed": false,
    "name": "cell20"
   },
   "source": "## Using Python variables in SQL cells 🔖\n\nYou can use the Jinja syntax `{{..}}` to refer to Python variables within your SQL queries as follows. \n\n```python\nthreshold = 5\n```\n\n```sql\n-- Reference Python variable in SQL\nSELECT * FROM SNOW_CATALOG where RATING > {{threshold}}\n```\n\nLet's put this in practice to generate a distribution of values for ratings based on the mean and standard deviation values we set with Python."
  },
  {
   "cell_type": "code",
   "execution_count": null,
   "id": "3fb85963-53ea-46b6-be96-c164c397539a",
   "metadata": {
    "codeCollapsed": false,
    "language": "python",
    "name": "cell21"
   },
   "outputs": [],
   "source": [
    "mean = 5 \n",
    "stdev = 3"
   ]
  },
  {
   "cell_type": "code",
   "execution_count": null,
   "id": "ed64f767-a598-42d2-966a-a2414ad3ecb4",
   "metadata": {
    "codeCollapsed": false,
    "collapsed": false,
    "language": "sql",
    "name": "cell22"
   },
   "outputs": [],
   "source": [
    "-- Note how we use the Python variables `mean` and `stdev` to populate the SQL query\n",
    "-- Note how the Python variables dynamically populate the SQL query\n",
    "CREATE OR REPLACE TABLE SNOW_CATALOG AS \n",
    "SELECT CONCAT('SNOW-',UNIFORM(1000,9999, RANDOM())) AS PRODUCT_ID, \n",
    "       ABS(NORMAL({{mean}}, {{stdev}}, RANDOM())) AS RATING, \n",
    "       ABS(NORMAL(750, 200::FLOAT, RANDOM())) AS PRICE\n",
    "FROM TABLE(GENERATOR(ROWCOUNT => 100));"
   ]
  },
  {
   "cell_type": "code",
   "execution_count": null,
   "id": "8f1e59cc-3d51-41c9-bd8d-2f600e7c6b61",
   "metadata": {
    "codeCollapsed": false,
    "language": "sql",
    "name": "cell23"
   },
   "outputs": [],
   "source": [
    "SELECT * FROM SNOW_CATALOG;"
   ]
  },
  {
   "cell_type": "markdown",
   "id": "67f4ed30-1eca-469e-b970-27b06affb526",
   "metadata": {
    "collapsed": false,
    "name": "cell24"
   },
   "source": [
    "### Level up your subquery game! 🧑‍🎓\n",
    "\n",
    "You can simplify long subqueries with [CTEs](https://docs.snowflake.com/en/user-guide/queries-cte) by combining what we've learned with Python and SQL cell result referencing. \n",
    "\n",
    "For example, if we want to compute the average rating of all products with ratings above 5. We would typically have to write something like the following:\n"
   ]
  },
  {
   "cell_type": "code",
   "execution_count": null,
   "id": "5fab80f9-2903-410c-ac01-a08f9746c1e6",
   "metadata": {
    "codeCollapsed": false,
    "collapsed": false,
    "language": "sql",
    "name": "cell25"
   },
   "outputs": [],
   "source": [
    "WITH RatingsAboveFive AS (\n",
    "    SELECT RATING\n",
    "    FROM SNOW_CATALOG\n",
    "    WHERE RATING > 5\n",
    ")\n",
    "SELECT AVG(RATING) AS AVG_RATING_ABOVE_FIVE\n",
    "FROM RatingsAboveFive;"
   ]
  },
  {
   "cell_type": "markdown",
   "id": "cd954592-93ba-4919-a7d2-2659d63a87dc",
   "metadata": {
    "collapsed": false,
    "name": "cell26"
   },
   "source": [
    "With Snowflake Notebooks, the query is much simpler! You can get the same result by filtering a SQL table from another SQL cell by referencing it with Jinja, e.g., `{{my_cell}}`. "
   ]
  },
  {
   "cell_type": "code",
   "execution_count": null,
   "id": "5828a1ef-2270-482e-81fc-d97c85823e43",
   "metadata": {
    "codeCollapsed": false,
    "collapsed": false,
    "language": "sql",
    "name": "cell27"
   },
   "outputs": [],
   "source": [
    "SELECT AVG(RATING) FROM {{cell23}}\n",
    "WHERE RATING > 5"
   ]
  },
  {
   "cell_type": "markdown",
   "id": "e1d99691-578d-4df2-a1c1-cde4ee7e1cd0",
   "metadata": {
    "collapsed": false,
    "name": "cell28"
   },
   "source": [
    "## Creating an interactive app with Streamlit 🪄\n",
    "\n",
    "Putting this all together, let's build a Streamlit app to explore how different parameters impacts the shape of the data distribution histogram."
   ]
  },
  {
   "cell_type": "code",
   "id": "8dbe8117-f3b7-4b51-bf6d-150a7024a510",
   "metadata": {
    "language": "python",
    "name": "cell38"
   },
   "outputs": [],
   "source": "from snowflake.snowpark.functions import min, max, mean\ndf.select(mean(col(\"RATING\"))).collect()[0][0]",
   "execution_count": null
  },
  {
   "cell_type": "code",
   "id": "b68ee7d7-f4db-4b3e-8e0d-11d890ce9f92",
   "metadata": {
    "language": "python",
    "name": "cell39"
   },
   "outputs": [],
   "source": "df_pd = df.to_pandas()",
   "execution_count": null
  },
  {
   "cell_type": "code",
   "id": "04c43425-fc9e-4874-ade4-ef579e7cf1ba",
   "metadata": {
    "language": "python",
    "name": "cell40"
   },
   "outputs": [],
   "source": "plt.scatter",
   "execution_count": null
  },
  {
   "cell_type": "code",
   "execution_count": null,
   "id": "9fe67464-68f5-4bcf-a40d-684a58e3a44d",
   "metadata": {
    "codeCollapsed": false,
    "collapsed": false,
    "language": "python",
    "name": "cell29"
   },
   "outputs": [],
   "source": "import streamlit as st\nst.markdown(\"# Move the slider to adjust and watch the results update! 👇\")\n\nrating = st.slider('RATING FILTER', df_pd.RATING.min(),\n                                        df_pd.RATING.max(),\n                                        df_pd.RATING.mean()) \nprice = st.slider('PRICE FILTER', df_pd.PRICE.min(),\n                                      df_pd.PRICE.max(),\n                                      df_pd.PRICE.mean()) \n\n\nresult = df_pd[(df_pd.RATING>rating) & (df_pd.PRICE >price)]\n\nfig, ax = plt.subplots(figsize=(3,2))\nax.scatter(x=result.RATING, y=result.PRICE, s = 3,color='lightblue', edgecolors='black', linewidths=0.2)\nax.set_xlabel(\"RATING\", fontsize=3)\nax.set_ylabel(\"PRICE\", fontsize=3)\nax.tick_params(axis='both', labelsize=3)\n\nst.pyplot(fig)"
  },
  {
   "cell_type": "markdown",
   "id": "b33cd696-cd03-4018-9be5-7d7dfaa730c1",
   "metadata": {
    "collapsed": false,
    "name": "cell32"
   },
   "source": [
    "## Run Faster with Keyboard Shortcuts 🏃\n",
    "\n",
    "These shortcuts can help you navigate around your notebook more quickly. \n",
    "\n",
    "| Command | Shortcut |\n",
    "| --- | ----------- |\n",
    "| **Run this cell and advance** | SHIFT + ENTER |\n",
    "| **Run this cell only** | CMD + ENTER |\n",
    "| **Run all cells** | CMD + SHIFT + ENTER |\n",
    "| **Add cell BELOW** | b |\n",
    "| **Add cell ABOVE** | a |\n",
    "| **Delete this cell** | d+d |\n",
    "\n",
    "\\\n",
    "You can view the full list of shortcuts by clicking the `?` button on the bottom right."
   ]
  },
  {
   "cell_type": "code",
   "id": "061231e8-33cb-43d1-a071-f8cccebfa557",
   "metadata": {
    "language": "sql",
    "name": "cell31"
   },
   "outputs": [],
   "source": "SELECT * FROM TPCXAI_SF0001_QUICKSTART.TRAINING.ORDERS limit 10;",
   "execution_count": null
  },
  {
   "cell_type": "code",
   "id": "41b7af7c-1e7a-4407-ba20-67dca310235a",
   "metadata": {
    "language": "sql",
    "name": "cell30"
   },
   "outputs": [],
   "source": "SELECT * FROM TPCXAI_SF0001_QUICKSTART.TRAINING.LINEITEM;\n-- SELECT AVG(PRICE) AS AVG_PRICE, AVG(QUANTITY) as AVG_QUANTITY FROM TPCXAI_SF0001_QUICKSTART.TRAINING.LINEITEM GROUP BY QUANTITY ORDER BY AVG_PRICE limit 100;",
   "execution_count": null
  },
  {
   "cell_type": "code",
   "id": "848ba660-d0fe-4e32-8d29-e71cdc6a4af0",
   "metadata": {
    "language": "sql",
    "name": "cell43"
   },
   "outputs": [],
   "source": "SELECT\n    store,\n    o_order_id,\n    order_ts,\n    SUM(o_customer_sk) OVER (PARTITION BY store ORDER BY order_ts ROWS BETWEEN 30 PRECEDING AND CURRENT ROW) AS rolling_7_orders\nFROM\n    TPCXAI_SF0001_QUICKSTART.TRAINING.ORDERS\n-- WHERE\n--     STORE > 5\nORDER BY \n    ROLLING_7_ORDERS",
   "execution_count": null
  },
  {
   "cell_type": "code",
   "id": "42fb1873-9091-47fb-b100-d7dab02dca44",
   "metadata": {
    "language": "sql",
    "name": "cell42"
   },
   "outputs": [],
   "source": "SELECT\n    STORE,\n    COUNT(li.li_order_id) AS total_orders,\n    SUM(li.price) AS total_amount\nFROM\n    TPCXAI_SF0001_QUICKSTART.TRAINING.LINEITEM li\nJOIN\n    TPCXAI_SF0001_QUICKSTART.TRAINING.ORDERS o ON o.o_order_id = li.li_order_id\n\nWHERE\n    o.ORDER_DATE BETWEEN '2021-01-01' AND '2021-10-01'\nGROUP BY\n    o.STORE\nHAVING\n    count(li.li_order_id)>59000\nORDER BY\n    total_amount DESC\nLIMIT 100;",
   "execution_count": null
  },
  {
   "cell_type": "markdown",
   "id": "c0aa866e-7fd4-449a-a0b4-51e76b03f751",
   "metadata": {
    "collapsed": false,
    "name": "cell34"
   },
   "source": [
    "## Keep Exploring Notebooks! 🧭\n",
    "\n",
    "Check out our [sample notebook gallery](https://github.com/Snowflake-Labs/notebook-demo) and [documentation](https://docs.snowflake.com/LIMITEDACCESS/snowsight-notebooks/ui-snowsight-notebooks-about) to learn more!"
   ]
  }
 ]
}